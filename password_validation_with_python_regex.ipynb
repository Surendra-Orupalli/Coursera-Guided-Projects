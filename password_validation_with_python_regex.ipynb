{
  "nbformat": 4,
  "nbformat_minor": 0,
  "metadata": {
    "colab": {
      "name": "password validation with python regex.ipynb",
      "provenance": [],
      "authorship_tag": "ABX9TyMzXAkyRZUEktm2qRH6zvmZ",
      "include_colab_link": true
    },
    "kernelspec": {
      "name": "python3",
      "display_name": "Python 3"
    },
    "language_info": {
      "name": "python"
    }
  },
  "cells": [
    {
      "cell_type": "markdown",
      "metadata": {
        "id": "view-in-github",
        "colab_type": "text"
      },
      "source": [
        "<a href=\"https://colab.research.google.com/github/Surendra-Orupalli/Coursera-Guided-Projects/blob/main/password_validation_with_python_regex.ipynb\" target=\"_parent\"><img src=\"https://colab.research.google.com/assets/colab-badge.svg\" alt=\"Open In Colab\"/></a>"
      ]
    },
    {
      "cell_type": "markdown",
      "metadata": {
        "id": "MFn9mvObLofU"
      },
      "source": [
        "# Password Validation with Python (with REGEX)\n",
        "You need to write regex that will validate as password to make sure it meets the following criteria\n",
        "*   At least 8 characters\n",
        "*   Upper case letters A-Z\n",
        "*   Lower case letters a-z\n",
        "*   Numbers 0-9\n",
        "*   Any of the special characters @#$%&+=\n",
        "\n",
        "Letters/ numbers/ special characters are **optional**\n",
        "\n"
      ]
    },
    {
      "cell_type": "code",
      "metadata": {
        "id": "LHicHg2uKJyq"
      },
      "source": [
        "regex = '[A-Za-z0-9@#$%^&+=]{8,}'"
      ],
      "execution_count": null,
      "outputs": []
    },
    {
      "cell_type": "code",
      "metadata": {
        "colab": {
          "base_uri": "https://localhost:8080/"
        },
        "id": "ryujfE7jKvm2",
        "outputId": "7c7e8133-e049-431c-888a-833fe2c33586"
      },
      "source": [
        "import re\n",
        "pwd = input(\"enter a password\")"
      ],
      "execution_count": null,
      "outputs": [
        {
          "name": "stdout",
          "output_type": "stream",
          "text": [
            "enter a passwordhey123456\n"
          ]
        }
      ]
    },
    {
      "cell_type": "code",
      "metadata": {
        "colab": {
          "base_uri": "https://localhost:8080/",
          "height": 35
        },
        "id": "zGCC-4RYLTS8",
        "outputId": "fcfc2f88-4547-4dbc-c669-09ed575ad79c"
      },
      "source": [
        "pwd"
      ],
      "execution_count": null,
      "outputs": [
        {
          "output_type": "execute_result",
          "data": {
            "application/vnd.google.colaboratory.intrinsic+json": {
              "type": "string"
            },
            "text/plain": [
              "'hey123456'"
            ]
          },
          "metadata": {},
          "execution_count": 4
        }
      ]
    },
    {
      "cell_type": "code",
      "metadata": {
        "colab": {
          "base_uri": "https://localhost:8080/"
        },
        "id": "UCXDJTiQLVw1",
        "outputId": "9390688f-65c5-4d4f-a880-04cff01c6567"
      },
      "source": [
        "re.fullmatch(regex, pwd)"
      ],
      "execution_count": null,
      "outputs": [
        {
          "output_type": "execute_result",
          "data": {
            "text/plain": [
              "<re.Match object; span=(0, 9), match='hey123456'>"
            ]
          },
          "metadata": {},
          "execution_count": 5
        }
      ]
    },
    {
      "cell_type": "code",
      "metadata": {
        "colab": {
          "base_uri": "https://localhost:8080/"
        },
        "id": "hAZz47RSNGia",
        "outputId": "e78ff003-3b1f-4b8e-9a9a-d40ae007f92f"
      },
      "source": [
        "if re.fullmatch(regex, pwd):\n",
        "  print(\"Congratulations, there is a match\")\n",
        "else:\n",
        "  print(\"Sorry, there is no match\")"
      ],
      "execution_count": null,
      "outputs": [
        {
          "output_type": "stream",
          "name": "stdout",
          "text": [
            "Congratulations, there is a match\n"
          ]
        }
      ]
    },
    {
      "cell_type": "markdown",
      "metadata": {
        "id": "iGm-Oe1aNkRW"
      },
      "source": [
        "You need to write regex that will validate password to make sure that it meets all the following criteria:\n",
        "*   At least six characters long\n",
        "*   Contains a lowercase letter\n",
        "*   Contrains an uppercase letter\n",
        "*   Contains a number\n",
        "\n",
        "Valid passwords will only be alphanumeric characters"
      ]
    },
    {
      "cell_type": "code",
      "metadata": {
        "id": "GXJTveskQS3a"
      },
      "source": [
        "import re"
      ],
      "execution_count": null,
      "outputs": []
    },
    {
      "cell_type": "code",
      "metadata": {
        "id": "UFPV2GuFN4vg"
      },
      "source": [
        "regex = '(?=.*[A-Z])(?=.*[a-z])(?=.*[0-9]{6,})'"
      ],
      "execution_count": null,
      "outputs": []
    },
    {
      "cell_type": "code",
      "metadata": {
        "id": "lNTRvQtwP2HI"
      },
      "source": [
        "re.fullmatch(regex, pwd)"
      ],
      "execution_count": null,
      "outputs": []
    },
    {
      "cell_type": "code",
      "metadata": {
        "colab": {
          "base_uri": "https://localhost:8080/"
        },
        "id": "6rSPs2rKQpkV",
        "outputId": "0b116317-d349-45af-e9de-0c778ceb0f49"
      },
      "source": [
        "if re.fullmatch(regex, pwd):\n",
        "  print(\"match, yay!\")\n",
        "else:\n",
        "  print(\"sorry, no match\")"
      ],
      "execution_count": null,
      "outputs": [
        {
          "output_type": "stream",
          "name": "stdout",
          "text": [
            "sorry, no match\n"
          ]
        }
      ]
    }
  ]
}