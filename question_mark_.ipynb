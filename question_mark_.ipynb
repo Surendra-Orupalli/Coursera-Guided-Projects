{
  "nbformat": 4,
  "nbformat_minor": 0,
  "metadata": {
    "colab": {
      "name": "question mark .ipynb",
      "provenance": [],
      "authorship_tag": "ABX9TyN8toGqep8G3cMF+TJN6U+5",
      "include_colab_link": true
    },
    "kernelspec": {
      "name": "python3",
      "display_name": "Python 3"
    },
    "language_info": {
      "name": "python"
    }
  },
  "cells": [
    {
      "cell_type": "markdown",
      "metadata": {
        "id": "view-in-github",
        "colab_type": "text"
      },
      "source": [
        "<a href=\"https://colab.research.google.com/github/Surendra-Orupalli/Coursera-Guided-Projects/blob/main/question_mark_.ipynb\" target=\"_parent\"><img src=\"https://colab.research.google.com/assets/colab-badge.svg\" alt=\"Open In Colab\"/></a>"
      ]
    },
    {
      "cell_type": "markdown",
      "metadata": {
        "id": "DOYWlU2jtNj2"
      },
      "source": [
        "# Question Mark\n",
        "Question mark ? is an option in regex which means 0 or 1 occurance.\n",
        "\n",
        "Question mark ? can also be used in combination with other special characters and means something else.\n",
        "\n",
        "Asterisk * means 0 or more occurances of the preceeding element.\n",
        "\n",
        "By default, the engine returns 'more occurances' (greedy). If we want to force 0 occurances, we use ? after the * (non-greedy)."
      ]
    },
    {
      "cell_type": "code",
      "metadata": {
        "id": "EKyhHsqguY3P"
      },
      "source": [
        "import re"
      ],
      "execution_count": 1,
      "outputs": []
    },
    {
      "cell_type": "code",
      "metadata": {
        "id": "xk39VLRyssD5"
      },
      "source": [
        "text = 'abcdefghujhg'"
      ],
      "execution_count": 2,
      "outputs": []
    },
    {
      "cell_type": "code",
      "metadata": {
        "colab": {
          "base_uri": "https://localhost:8080/"
        },
        "id": "fd6CUWulvOyO",
        "outputId": "3ca91a00-6253-4771-f74b-1eb99acd0e60"
      },
      "source": [
        "re.findall('ab.*', text)"
      ],
      "execution_count": 4,
      "outputs": [
        {
          "output_type": "execute_result",
          "data": {
            "text/plain": [
              "['abcdefghujhg']"
            ]
          },
          "metadata": {},
          "execution_count": 4
        }
      ]
    },
    {
      "cell_type": "code",
      "metadata": {
        "colab": {
          "base_uri": "https://localhost:8080/"
        },
        "id": "TXtkpTo0vbgK",
        "outputId": "71bff85f-eb07-4f0e-a9fe-9e5b7ad1da1c"
      },
      "source": [
        "re.findall('ab.*?', text)"
      ],
      "execution_count": 5,
      "outputs": [
        {
          "output_type": "execute_result",
          "data": {
            "text/plain": [
              "['ab']"
            ]
          },
          "metadata": {},
          "execution_count": 5
        }
      ]
    },
    {
      "cell_type": "code",
      "metadata": {
        "id": "5p6uHmjpvhq4"
      },
      "source": [
        "text = 'peter piper picked a peck of pickled peppers'"
      ],
      "execution_count": 8,
      "outputs": []
    },
    {
      "cell_type": "code",
      "metadata": {
        "colab": {
          "base_uri": "https://localhost:8080/"
        },
        "id": "yyGf51NVvZXP",
        "outputId": "dde52923-7d31-4bef-8e50-81d9d078d591"
      },
      "source": [
        "re.findall('p.*e.*r,*', text)"
      ],
      "execution_count": 10,
      "outputs": [
        {
          "output_type": "execute_result",
          "data": {
            "text/plain": [
              "['peter piper picked a peck of pickled pepper']"
            ]
          },
          "metadata": {},
          "execution_count": 10
        }
      ]
    },
    {
      "cell_type": "code",
      "metadata": {
        "colab": {
          "base_uri": "https://localhost:8080/"
        },
        "id": "wYMneh5Ewd_O",
        "outputId": "9aa6852b-019a-455f-b2e7-615b473cfac6"
      },
      "source": [
        "re.findall('p.*?e.*?r.*?', text)"
      ],
      "execution_count": 15,
      "outputs": [
        {
          "output_type": "execute_result",
          "data": {
            "text/plain": [
              "['peter', 'piper', 'picked a peck of pickled pepper']"
            ]
          },
          "metadata": {},
          "execution_count": 15
        }
      ]
    },
    {
      "cell_type": "markdown",
      "metadata": {
        "id": "Vmwyxhx4yGil"
      },
      "source": [
        "# Problem 1\n",
        "\n",
        "Find a match that starts with 'crypto', then matches at the most 30 arbitrary characters and match ends when the last word in 'coin'."
      ]
    },
    {
      "cell_type": "code",
      "metadata": {
        "id": "tnSxNNDNyfN8"
      },
      "source": [
        "text = \"crypto-bot that is trading Bitcoin and other currencies\""
      ],
      "execution_count": 16,
      "outputs": []
    },
    {
      "cell_type": "code",
      "metadata": {
        "colab": {
          "base_uri": "https://localhost:8080/"
        },
        "id": "6_vrhscfypaZ",
        "outputId": "699a76b4-dc63-4cfe-da08-960eb07ceaf6"
      },
      "source": [
        "re.match('crypto(.{1,30})coin', text)"
      ],
      "execution_count": 17,
      "outputs": [
        {
          "output_type": "execute_result",
          "data": {
            "text/plain": [
              "<re.Match object; span=(0, 34), match='crypto-bot that is trading Bitcoin'>"
            ]
          },
          "metadata": {},
          "execution_count": 17
        }
      ]
    },
    {
      "cell_type": "markdown",
      "metadata": {
        "id": "LjHnzwWizTO2"
      },
      "source": [
        "# Problem 2\n",
        "\n",
        "Given a string, find a list of all occurences of dollar amounts with optional Regular Expressions decimal values."
      ]
    },
    {
      "cell_type": "code",
      "metadata": {
        "id": "nMKLrRmtzm6c"
      },
      "source": [
        "text = '''\n",
        "If you invested $1 in the year 1801, you would have $18087791.41 today.\n",
        "This is a 7.967% return on investment.\n",
        "But if you invest only $0.25 in 1801, you would end up with $4521947.8525.\n",
        "'''"
      ],
      "execution_count": 18,
      "outputs": []
    },
    {
      "cell_type": "code",
      "metadata": {
        "id": "32LLNzZl0Oqz"
      },
      "source": [
        "regex = '[$]\\d? | [$]\\d*[.]\\d*'"
      ],
      "execution_count": 42,
      "outputs": []
    },
    {
      "cell_type": "code",
      "metadata": {
        "colab": {
          "base_uri": "https://localhost:8080/"
        },
        "id": "AOFbpM-P1IzQ",
        "outputId": "bb9a89eb-65a5-4177-f6b2-e6e20c0410a3"
      },
      "source": [
        "re.findall(regex, text)"
      ],
      "execution_count": 43,
      "outputs": [
        {
          "output_type": "execute_result",
          "data": {
            "text/plain": [
              "['$1 ', ' $18087791.41', ' $0.25', ' $4521947.8525']"
            ]
          },
          "metadata": {},
          "execution_count": 43
        }
      ]
    },
    {
      "cell_type": "code",
      "metadata": {
        "id": "EZu1gfXz2HNb"
      },
      "source": [
        "regex = '(\\$[0-9]+(\\.[0-9]*)?)'"
      ],
      "execution_count": 27,
      "outputs": []
    },
    {
      "cell_type": "code",
      "metadata": {
        "colab": {
          "base_uri": "https://localhost:8080/"
        },
        "id": "RBM7qNJd2lUh",
        "outputId": "812d435f-1bfa-4070-a3bc-d1f3f4b85afe"
      },
      "source": [
        "re.findall(regex, text)"
      ],
      "execution_count": 28,
      "outputs": [
        {
          "output_type": "execute_result",
          "data": {
            "text/plain": [
              "[('$1', ''),\n",
              " ('$18087791.41', '.41'),\n",
              " ('$0.25', '.25'),\n",
              " ('$4521947.8525', '.8525')]"
            ]
          },
          "metadata": {},
          "execution_count": 28
        }
      ]
    },
    {
      "cell_type": "markdown",
      "metadata": {
        "id": "gFx6aOIi4VXf"
      },
      "source": [
        "# Problem 3\n",
        "Replace Alice Wonderland with Alice Doe, but not to replace occurences of Alice Wonderland when you see single quotes. Introducing the ?!, negative lookahead."
      ]
    },
    {
      "cell_type": "code",
      "metadata": {
        "id": "EsbglQuZ40aW"
      },
      "source": [
        "text = '''\n",
        "Alice Wonderland married Alice Doe.\n",
        "The new name of former 'Alice Wonderland' is Alice Doe.\n",
        "Alice Wonderland replaces her old name 'Wonderland' with her new name 'Doe'.\n",
        "ALice's sister Jance Wonderland still keeps her old name.\n",
        "'''"
      ],
      "execution_count": 44,
      "outputs": []
    },
    {
      "cell_type": "code",
      "metadata": {
        "colab": {
          "base_uri": "https://localhost:8080/",
          "height": 52
        },
        "id": "izgtnJi95ZXI",
        "outputId": "826de52e-f29c-4b0a-e77e-d526ff8cb31f"
      },
      "source": [
        "re.sub(\"Alice Wonderland(?!')\", \"Alice Doe\", text)"
      ],
      "execution_count": 45,
      "outputs": [
        {
          "output_type": "execute_result",
          "data": {
            "application/vnd.google.colaboratory.intrinsic+json": {
              "type": "string"
            },
            "text/plain": [
              "\"\\nAlice Doe married Alice Doe.\\nThe new name of former 'Alice Wonderland' is Alice Doe.\\nAlice Doe replaces her old name 'Wonderland' with her new name 'Doe'.\\nALice's sister Jance Wonderland still keeps her old name.\\n\""
            ]
          },
          "metadata": {},
          "execution_count": 45
        }
      ]
    }
  ]
}