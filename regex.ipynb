{
  "nbformat": 4,
  "nbformat_minor": 0,
  "metadata": {
    "colab": {
      "name": "regex.ipynb",
      "provenance": [],
      "authorship_tag": "ABX9TyNizUckewS0h5LPyxRQKbsq",
      "include_colab_link": true
    },
    "kernelspec": {
      "name": "python3",
      "display_name": "Python 3"
    },
    "language_info": {
      "name": "python"
    }
  },
  "cells": [
    {
      "cell_type": "markdown",
      "metadata": {
        "id": "view-in-github",
        "colab_type": "text"
      },
      "source": [
        "<a href=\"https://colab.research.google.com/github/Surendra-Orupalli/Coursera-Guided-Projects/blob/main/regex.ipynb\" target=\"_parent\"><img src=\"https://colab.research.google.com/assets/colab-badge.svg\" alt=\"Open In Colab\"/></a>"
      ]
    },
    {
      "cell_type": "markdown",
      "metadata": {
        "id": "-h1WR1vFkLSS"
      },
      "source": [
        "This is the first task of this project to learn regular expressions in Python"
      ]
    },
    {
      "cell_type": "code",
      "metadata": {
        "id": "SJwkO9JgjzQI"
      },
      "source": [
        "import re"
      ],
      "execution_count": null,
      "outputs": []
    },
    {
      "cell_type": "markdown",
      "metadata": {
        "id": "3N_3OB4smfG8"
      },
      "source": [
        "#Metacharacters\n",
        "^ $"
      ]
    },
    {
      "cell_type": "code",
      "metadata": {
        "id": "db3JU0WXlrMl"
      },
      "source": [
        "st = 'dogs are adorable'"
      ],
      "execution_count": null,
      "outputs": []
    },
    {
      "cell_type": "code",
      "metadata": {
        "id": "XOrXVSLSl5SX"
      },
      "source": [
        "p = '^dogs'"
      ],
      "execution_count": null,
      "outputs": []
    },
    {
      "cell_type": "code",
      "metadata": {
        "colab": {
          "base_uri": "https://localhost:8080/"
        },
        "id": "AIwq1ThJmJ3W",
        "outputId": "cdfb6b4d-6e74-47fa-cc6a-4c381225d30f"
      },
      "source": [
        "re.search(p, st)"
      ],
      "execution_count": null,
      "outputs": [
        {
          "output_type": "execute_result",
          "data": {
            "text/plain": [
              "<re.Match object; span=(0, 4), match='dogs'>"
            ]
          },
          "metadata": {},
          "execution_count": 4
        }
      ]
    },
    {
      "cell_type": "code",
      "metadata": {
        "id": "L3g5aN6XmbzD"
      },
      "source": [
        "p2 = 'dogs$'"
      ],
      "execution_count": null,
      "outputs": []
    },
    {
      "cell_type": "code",
      "metadata": {
        "colab": {
          "base_uri": "https://localhost:8080/"
        },
        "id": "11C48z6rm1Tm",
        "outputId": "e67d46b8-e0f0-4d58-aa1d-1748fec0d375"
      },
      "source": [
        "print(re.search(p2, st))"
      ],
      "execution_count": null,
      "outputs": [
        {
          "output_type": "stream",
          "name": "stdout",
          "text": [
            "None\n"
          ]
        }
      ]
    },
    {
      "cell_type": "markdown",
      "metadata": {
        "id": "Z04UNwF7nIOH"
      },
      "source": [
        "# Quantifiers\n",
        "? + *"
      ]
    },
    {
      "cell_type": "code",
      "metadata": {
        "id": "i1onR8monsko"
      },
      "source": [
        "st2 = 'color'"
      ],
      "execution_count": null,
      "outputs": []
    },
    {
      "cell_type": "code",
      "metadata": {
        "id": "u9tbWcienlDI"
      },
      "source": [
        "st3 = 'colour'"
      ],
      "execution_count": null,
      "outputs": []
    },
    {
      "cell_type": "code",
      "metadata": {
        "colab": {
          "base_uri": "https://localhost:8080/"
        },
        "id": "Z7jcqOiTn9Jy",
        "outputId": "92f89fe1-b023-4614-c039-6a36be16ddf8"
      },
      "source": [
        "re.search('colou?r', st3)"
      ],
      "execution_count": null,
      "outputs": [
        {
          "output_type": "execute_result",
          "data": {
            "text/plain": [
              "<re.Match object; span=(0, 6), match='colour'>"
            ]
          },
          "metadata": {},
          "execution_count": 13
        }
      ]
    },
    {
      "cell_type": "code",
      "metadata": {
        "id": "GOAzgS28otMW"
      },
      "source": [
        "st4 = 'ac'\n",
        "st5 = 'abc'\n",
        "st6 = 'abbc'"
      ],
      "execution_count": null,
      "outputs": []
    },
    {
      "cell_type": "code",
      "metadata": {
        "colab": {
          "base_uri": "https://localhost:8080/"
        },
        "id": "NZPULZSAo8ol",
        "outputId": "f7c99cfb-256f-4f0f-f138-b0c936e25d30"
      },
      "source": [
        "print(re.search('ab+c', st6))"
      ],
      "execution_count": null,
      "outputs": [
        {
          "output_type": "stream",
          "name": "stdout",
          "text": [
            "<re.Match object; span=(0, 4), match='abbc'>\n"
          ]
        }
      ]
    },
    {
      "cell_type": "markdown",
      "metadata": {
        "id": "LT6VtMe-pciN"
      },
      "source": [
        "# Metacharacters\n",
        "- ."
      ]
    },
    {
      "cell_type": "markdown",
      "metadata": {
        "id": "gZZcvMgIqej0"
      },
      "source": [
        "#Sets\n",
        "[]\n",
        "[^a-n]\n",
        "[0145]\n",
        "[0-9]\n",
        "[0-5][0-9]\n",
        "[a-Z]"
      ]
    },
    {
      "cell_type": "code",
      "metadata": {
        "id": "WYiXJzXR8SlR"
      },
      "source": [
        "import re\n",
        "str = 'dogs are adorable'"
      ],
      "execution_count": null,
      "outputs": []
    },
    {
      "cell_type": "code",
      "metadata": {
        "colab": {
          "base_uri": "https://localhost:8080/"
        },
        "id": "9BmhNITU8j2G",
        "outputId": "9095b22f-b465-45b5-ed71-de87c6e8a7de"
      },
      "source": [
        "re.search('[a-d]', str)"
      ],
      "execution_count": null,
      "outputs": [
        {
          "output_type": "execute_result",
          "data": {
            "text/plain": [
              "<re.Match object; span=(0, 1), match='d'>"
            ]
          },
          "metadata": {},
          "execution_count": 22
        }
      ]
    },
    {
      "cell_type": "code",
      "metadata": {
        "colab": {
          "base_uri": "https://localhost:8080/"
        },
        "id": "gOWJd4vF9Gr_",
        "outputId": "04d5314a-7e17-490b-9b85-e38a912a3e02"
      },
      "source": [
        "re.findall('[a-d]', str)"
      ],
      "execution_count": null,
      "outputs": [
        {
          "output_type": "execute_result",
          "data": {
            "text/plain": [
              "['d', 'a', 'a', 'd', 'a', 'b']"
            ]
          },
          "metadata": {},
          "execution_count": 23
        }
      ]
    },
    {
      "cell_type": "markdown",
      "metadata": {
        "id": "gg8hM8ir9ZJl"
      },
      "source": [
        "# Special Sequences\n",
        "\\d[0-9]\n",
        "\n",
        "\\w[0-9 a-Z]"
      ]
    },
    {
      "cell_type": "code",
      "metadata": {
        "colab": {
          "base_uri": "https://localhost:8080/"
        },
        "id": "_yyDYO5I-AU8",
        "outputId": "d8abb0cc-4d2e-4ef2-a990-24e860a06ba3"
      },
      "source": [
        "re.search('\\d', 'my password is pass1234')"
      ],
      "execution_count": null,
      "outputs": [
        {
          "output_type": "execute_result",
          "data": {
            "text/plain": [
              "<re.Match object; span=(19, 20), match='1'>"
            ]
          },
          "metadata": {},
          "execution_count": 24
        }
      ]
    },
    {
      "cell_type": "code",
      "metadata": {
        "colab": {
          "base_uri": "https://localhost:8080/"
        },
        "id": "1UC3hEll98Aw",
        "outputId": "3c9b8682-10e1-4cdc-92b2-c893bf312bff"
      },
      "source": [
        "re.findall('\\d', 'my password is pass1234')"
      ],
      "execution_count": null,
      "outputs": [
        {
          "output_type": "execute_result",
          "data": {
            "text/plain": [
              "['1', '2', '3', '4']"
            ]
          },
          "metadata": {},
          "execution_count": 25
        }
      ]
    },
    {
      "cell_type": "code",
      "metadata": {
        "colab": {
          "base_uri": "https://localhost:8080/"
        },
        "id": "uVZzX9Bn9fBy",
        "outputId": "3acc2325-9cb5-4c2b-e6aa-b3c19cf2c807"
      },
      "source": [
        "re.search('\\w', 'my password is pass1234')"
      ],
      "execution_count": null,
      "outputs": [
        {
          "output_type": "execute_result",
          "data": {
            "text/plain": [
              "<re.Match object; span=(0, 1), match='m'>"
            ]
          },
          "metadata": {},
          "execution_count": 26
        }
      ]
    },
    {
      "cell_type": "code",
      "metadata": {
        "colab": {
          "base_uri": "https://localhost:8080/"
        },
        "id": "W15jjX5J-41b",
        "outputId": "ae2a87e7-8017-4b39-cc1f-6e343b0be883"
      },
      "source": [
        "re.findall('\\w', 'my password is pass1234')"
      ],
      "execution_count": null,
      "outputs": [
        {
          "output_type": "execute_result",
          "data": {
            "text/plain": [
              "['m',\n",
              " 'y',\n",
              " 'p',\n",
              " 'a',\n",
              " 's',\n",
              " 's',\n",
              " 'w',\n",
              " 'o',\n",
              " 'r',\n",
              " 'd',\n",
              " 'i',\n",
              " 's',\n",
              " 'p',\n",
              " 'a',\n",
              " 's',\n",
              " 's',\n",
              " '1',\n",
              " '2',\n",
              " '3',\n",
              " '4']"
            ]
          },
          "metadata": {},
          "execution_count": 27
        }
      ]
    }
  ]
}