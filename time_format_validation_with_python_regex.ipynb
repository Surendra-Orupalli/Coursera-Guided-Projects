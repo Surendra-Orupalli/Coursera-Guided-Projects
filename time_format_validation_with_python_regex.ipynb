{
  "nbformat": 4,
  "nbformat_minor": 0,
  "metadata": {
    "colab": {
      "name": "time format validation with python regex.ipynb",
      "provenance": [],
      "authorship_tag": "ABX9TyOhD/mnxVBAOlg6nsndXOyB",
      "include_colab_link": true
    },
    "kernelspec": {
      "name": "python3",
      "display_name": "Python 3"
    },
    "language_info": {
      "name": "python"
    }
  },
  "cells": [
    {
      "cell_type": "markdown",
      "metadata": {
        "id": "view-in-github",
        "colab_type": "text"
      },
      "source": [
        "<a href=\"https://colab.research.google.com/github/Surendra-Orupalli/Coursera-Guided-Projects/blob/main/time_format_validation_with_python_regex.ipynb\" target=\"_parent\"><img src=\"https://colab.research.google.com/assets/colab-badge.svg\" alt=\"Open In Colab\"/></a>"
      ]
    },
    {
      "cell_type": "markdown",
      "metadata": {
        "id": "7bul9i9ZYhWA"
      },
      "source": [
        "# Time Format Validation\n",
        "A web application calculates health statistics based on the sleep duration of your users. Your users enter the time they went to bed and the time they wake up. An example for a correct time format is 12:45\n",
        "Write a time-format checker that determines whether the input is worth processing further with your backend application."
      ]
    },
    {
      "cell_type": "code",
      "metadata": {
        "id": "tkhWj2poZoYy"
      },
      "source": [
        "import re"
      ],
      "execution_count": 26,
      "outputs": []
    },
    {
      "cell_type": "code",
      "metadata": {
        "id": "NrgphcGfYMiP"
      },
      "source": [
        "input1 = '12:48'"
      ],
      "execution_count": 27,
      "outputs": []
    },
    {
      "cell_type": "code",
      "metadata": {
        "colab": {
          "base_uri": "https://localhost:8080/"
        },
        "id": "SUp7E4RvZLIv",
        "outputId": "4cd0df86-3e17-404f-f7af-74f7e45b40fa"
      },
      "source": [
        "print(re.fullmatch('[0-9]{2}:[0-9]{2}', input1))"
      ],
      "execution_count": 28,
      "outputs": [
        {
          "output_type": "stream",
          "name": "stdout",
          "text": [
            "<re.Match object; span=(0, 5), match='12:48'>\n"
          ]
        }
      ]
    },
    {
      "cell_type": "code",
      "metadata": {
        "id": "DkuCRxyHa4AS"
      },
      "source": [
        "inputs = ['18:29', '23:55', '123', 'ab:de', '18:299', '99:99']"
      ],
      "execution_count": 29,
      "outputs": []
    },
    {
      "cell_type": "code",
      "metadata": {
        "colab": {
          "base_uri": "https://localhost:8080/"
        },
        "id": "ClSWH_64b4Rj",
        "outputId": "c69adc42-8fb2-412b-b22f-0f05db774dea"
      },
      "source": [
        "[re.fullmatch('[0-9]{2}:[0-9]{2}', x) for x in inputs]"
      ],
      "execution_count": 30,
      "outputs": [
        {
          "output_type": "execute_result",
          "data": {
            "text/plain": [
              "[<re.Match object; span=(0, 5), match='18:29'>,\n",
              " <re.Match object; span=(0, 5), match='23:55'>,\n",
              " None,\n",
              " None,\n",
              " None,\n",
              " <re.Match object; span=(0, 5), match='99:99'>]"
            ]
          },
          "metadata": {},
          "execution_count": 30
        }
      ]
    },
    {
      "cell_type": "markdown",
      "metadata": {
        "id": "0u3X0HWHcowm"
      },
      "source": [
        "Next, the given time must be a valid time format in the 24-hour time ranging from 00:00 to 23:59"
      ]
    },
    {
      "cell_type": "code",
      "metadata": {
        "id": "0PBzJPBkc3ur"
      },
      "source": [
        "regex = '([0-1][0-9]|[2][0-3]):([0-5][0-9])'"
      ],
      "execution_count": 31,
      "outputs": []
    },
    {
      "cell_type": "code",
      "metadata": {
        "colab": {
          "base_uri": "https://localhost:8080/"
        },
        "id": "Ns_86hhKlO1V",
        "outputId": "38f98849-8d06-499d-d86b-a64b4cd6e947"
      },
      "source": [
        "[re.fullmatch(regex, x) for x in inputs]"
      ],
      "execution_count": 32,
      "outputs": [
        {
          "output_type": "execute_result",
          "data": {
            "text/plain": [
              "[<re.Match object; span=(0, 5), match='18:29'>,\n",
              " <re.Match object; span=(0, 5), match='23:55'>,\n",
              " None,\n",
              " None,\n",
              " None,\n",
              " None]"
            ]
          },
          "metadata": {},
          "execution_count": 32
        }
      ]
    },
    {
      "cell_type": "markdown",
      "metadata": {
        "id": "Xuj4I-VWmIlU"
      },
      "source": [
        "# Email Validation"
      ]
    },
    {
      "cell_type": "code",
      "metadata": {
        "id": "J0KMw_X-mPkk"
      },
      "source": [
        "inputs = ['rog45@gmail.com', 'r_duke78o@outlook.com', 's.rog78o@outlook.com']"
      ],
      "execution_count": 33,
      "outputs": []
    },
    {
      "cell_type": "code",
      "metadata": {
        "id": "T2X9QzGzm9AR"
      },
      "source": [
        "regex = '^(\\w|\\.|\\_|\\-)+[@]\\w+[.]\\w{2,3}$'"
      ],
      "execution_count": 36,
      "outputs": []
    },
    {
      "cell_type": "code",
      "metadata": {
        "colab": {
          "base_uri": "https://localhost:8080/"
        },
        "id": "vlJalo1SoJ4G",
        "outputId": "e7dbd283-11f7-47db-8902-2563f33f8cfd"
      },
      "source": [
        "[re.fullmatch(regex, x) for x in inputs]"
      ],
      "execution_count": 37,
      "outputs": [
        {
          "output_type": "execute_result",
          "data": {
            "text/plain": [
              "[<re.Match object; span=(0, 15), match='rog45@gmail.com'>,\n",
              " <re.Match object; span=(0, 21), match='r_duke78o@outlook.com'>,\n",
              " <re.Match object; span=(0, 20), match='s.rog78o@outlook.com'>]"
            ]
          },
          "metadata": {},
          "execution_count": 37
        }
      ]
    },
    {
      "cell_type": "markdown",
      "metadata": {
        "id": "QJDP7VI5pv3a"
      },
      "source": [
        "# Username Validation\n",
        "Username is character only allowing for underscore _ and . only"
      ]
    },
    {
      "cell_type": "code",
      "metadata": {
        "id": "oMmSFEQlqDC6"
      },
      "source": [
        "inputs = ['a_roger', 'aroger', 'a.roger_de', 'a.roger_2']"
      ],
      "execution_count": 38,
      "outputs": []
    },
    {
      "cell_type": "code",
      "metadata": {
        "id": "BcUdgFNyptvD"
      },
      "source": [
        "regex = '^[a-zA-z_.]+$'"
      ],
      "execution_count": 39,
      "outputs": []
    },
    {
      "cell_type": "code",
      "metadata": {
        "colab": {
          "base_uri": "https://localhost:8080/"
        },
        "id": "_My_mSR1rD9o",
        "outputId": "c5f1b73d-1072-4ab7-b79f-5e9424561697"
      },
      "source": [
        "[re.fullmatch(regex, x) for x in inputs]"
      ],
      "execution_count": 41,
      "outputs": [
        {
          "output_type": "execute_result",
          "data": {
            "text/plain": [
              "[<re.Match object; span=(0, 7), match='a_roger'>,\n",
              " <re.Match object; span=(0, 6), match='aroger'>,\n",
              " <re.Match object; span=(0, 10), match='a.roger_de'>,\n",
              " None]"
            ]
          },
          "metadata": {},
          "execution_count": 41
        }
      ]
    }
  ]
}